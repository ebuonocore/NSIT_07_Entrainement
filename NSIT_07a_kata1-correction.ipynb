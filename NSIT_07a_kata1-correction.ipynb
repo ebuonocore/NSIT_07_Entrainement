{
 "cells": [
  {
   "cell_type": "markdown",
   "metadata": {},
   "source": [
    "<div style=\"width:100%;border-collapse:separate;border:solid 2px;border-radius:14px;\">\n",
    "    <div style=\"display:flex;\">\n",
    "        <div style=\"display:inline;width:5%;\"></div>\n",
    "        <div style=\"display:inline;width:15%;\">NSIT</div>\n",
    "        <div style=\"display:inline;width:15%;\">e07a</div>\n",
    "        <div style=\"display:inline;width:70%;text-align:right;\"><b>Révisions</b></div>\n",
    "        <div style=\"display:inline;width:5%;\"></div>\n",
    "    </div>\n",
    "    <div  style=\"display: flex;background-color:#EEE\">\n",
    "        <p style=\"width:100%;text-align:center;\">Kata 1 - Correction</p>\n",
    "    </div>\n",
    "    <div  style=\"display: flex;\">\n",
    "        <p style=\"width:100%;text-align:center;\">Tests unitaires, spécifications, listes, récursivité</p>\n",
    "    </div>\n",
    "</div>"
   ]
  },
  {
   "cell_type": "markdown",
   "metadata": {},
   "source": [
    "<div class = \"alert alert-success\">\n",
    "    \n",
    "**Objectifs de la séquence:** \n",
    "- Réviser les algorithmes et outils de base (et plus si affinité)\n",
    "- Atteindre la pureté du geste ;)"
   ]
  },
  {
   "cell_type": "markdown",
   "metadata": {},
   "source": [
    "<div class = \"alert alert-info\">\n",
    "    \n",
    "**Sommaire :**\n",
    "\n",
    "- <a href=#liste_sans_tete>Liste sans tête</a>  \n",
    "- <a href=#moyenne_liste>Moyenne d'une liste</a> \n",
    "- <a href=#maximum_liste>Maximum de la liste</a>    \n",
    "- <a href=#maximum_liste_et_indice>Maximum et indice du maximum</a>     \n",
    "- <a href=#tri_selection>Tri par sélection</a>   \n",
    "- <a href=#extremum>Extremum (avec doctest)</a>   \n",
    "- <a href=#comparatif_tris>Compare les performances de deux tris (avec time)</a>   \n",
    "- <a href=#comparatif_graphique> Comparaison graphique entre deux tris (avec pyplot)</a>   \n",
    "- <a href=#maximum_recursif>Maximum en récursif</a>   \n",
    "- <a href=#dependances>Interdépendance des definitions de fonctions</a> \n",
    "</div>"
   ]
  },
  {
   "cell_type": "markdown",
   "metadata": {},
   "source": [
    "![kata_definition](https://github.com/ebuonocore/NSIT_07_Entrainement/blob/main/sources/kata_def.png?raw=true)\n",
    "<span style=\"font-family:Comic Sans MS; color:gray; font-size: x-small;float:right \">Source: D'après <a href =\"http://thekaratekidblog.blogspot.com/\">thekaratekidblog</a> et <a href=\"https://www.youtube.com/watch?v=fBRwH6ESPJQ\">Youtube</a></span> \n",
    "\n",
    "Le code ci-dessous va nous permettre de tirer aléatoirement les éléments d'une liste L."
   ]
  },
  {
   "cell_type": "code",
   "execution_count": 3,
   "metadata": {},
   "outputs": [
    {
     "name": "stdout",
     "output_type": "stream",
     "text": [
      "L est une liste aléatoire de 20 éléments:\n",
      " [65, 62, 29, 71, 99, 72, 14, 39, 15, 67, 59, 71, 62, 20, 33, 85, 100, 75, 17]\n"
     ]
    }
   ],
   "source": [
    "from random import randint\n",
    "L = [randint(1,100) for i in range(20)] # Liste en compréhension. Tire une liste aléatoire.\n",
    "print(\"L est une liste aléatoire de 20 éléments:\\n\",L)"
   ]
  },
  {
   "cell_type": "markdown",
   "metadata": {},
   "source": [
    "<div id=\"liste_sans_tete\"></div>\n",
    "\n",
    "## Liste sans tête  \n",
    "\n",
    "Nous cherchons à renvoyer une copie d'une liste L privée de son premier élément.  \n",
    "<div style=\"display:inline-flex;width:100px\">&#x1F511; <a href=\"https://github.com/ebuonocore/NSIT_07_Entrainement/blob/main/aides_corrections/aide_01.pdf\">Aide</a></div>\n",
    "<div style=\"display:inline-flex;width:100px\">&#x2705; <a href=\"https://github.com/ebuonocore/NSIT_07_Entrainement/blob/main/aides_corrections/correction_01.py\">Correction</a></div>"
   ]
  },
  {
   "cell_type": "code",
   "execution_count": 4,
   "metadata": {},
   "outputs": [
    {
     "name": "stdout",
     "output_type": "stream",
     "text": [
      "[12, 65, 25, 12, 96, 48, 78, 96, 93, 27, 53, 74, 31, 28, 28, 60, 31, 85, 85]\n"
     ]
    },
    {
     "data": {
      "text/plain": [
       "[65, 25, 12, 96, 48, 78, 96, 93, 27, 53, 74, 31, 28, 28, 60, 31, 85, 85]"
      ]
     },
     "execution_count": 4,
     "metadata": {},
     "output_type": "execute_result"
    }
   ],
   "source": [
    "def sans_tete(ma_liste:list)->list:\n",
    "    \"\"\" Renvoie une copie de ma_liste privée du premier élément\n",
    "        Précondition ma_liste n'est pas vide.\n",
    "        Postcondition: la taille de la liste renvoyée est plus petite d'un élément par rapport à ma_liste\n",
    "    \"\"\"\n",
    "    # On initialise une liste vide\n",
    "    liste_sortie = []\n",
    "    # On ajoute à liste_sortie chaque élément de ma_liste en commençant du deuxième jusqu'au dernier\n",
    "    for i in range(1,len(ma_liste)):\n",
    "        liste_sortie.append(ma_liste[i])\n",
    "    return liste_sortie\n",
    "\n",
    "assert sans_tete([-1, 0, 1, 4]) == [0, 1, 4], 'Le test n\\'est pas passé'\n",
    "L = [randint(1,100) for i in range(20)] # Tire une liste aléatoire\n",
    "print(L)\n",
    "sans_tete(L)"
   ]
  },
  {
   "cell_type": "markdown",
   "metadata": {},
   "source": [
    "**Remarque:** Il existe une façon beaucoup plus efficace de la faire avec un <a href=\"https://zestedesavoir.com/tutoriels/582/les-slices-en-python/\">'slice'</a>  \n",
    "<code>L[1:]</code>  \n",
    "Mais c'est hors programme de NSI ..."
   ]
  },
  {
   "cell_type": "markdown",
   "metadata": {},
   "source": [
    "<div id=\"moyenne_liste\"></div>\n",
    "\n",
    "## Calculer la moyenne des éléments d'une liste\n",
    "\n",
    "<div style=\"display:inline-flex;width:100px\">&#x1F511; <a href=\"https://github.com/ebuonocore/NSIT_07_Entrainement/blob/main/aides_corrections/aide_02.pdf\">Aide</a></div>\n",
    "<div style=\"display:inline-flex;width:100px\">&#x2705; <a href=\"https://github.com/ebuonocore/NSIT_07_Entrainement/blob/main/aides_corrections/correction_02.py\">Correction</a></div>"
   ]
  },
  {
   "cell_type": "code",
   "execution_count": 5,
   "metadata": {},
   "outputs": [
    {
     "name": "stdout",
     "output_type": "stream",
     "text": [
      "[58, 100, 12, 48, 31, 94, 41, 1, 81, 17, 59, 41, 53, 76, 73, 39, 99, 97, 29]\n"
     ]
    },
    {
     "data": {
      "text/plain": [
       "55.21052631578947"
      ]
     },
     "execution_count": 5,
     "metadata": {},
     "output_type": "execute_result"
    }
   ],
   "source": [
    "def moyenne(ma_liste:list)->float:\n",
    "    \"\"\" Renvoie la moyenne des éléments d'une liste\n",
    "        Précondition: ma-liste n'est pas vide\n",
    "    \"\"\"\n",
    "    somme = 0\n",
    "    for element in ma_liste:\n",
    "        somme += element\n",
    "    return somme / len(ma_liste)\n",
    "\n",
    "assert moyenne([-1.5, 0.0, 1.5, 4.0]) == 1.0, 'Le test n\\'est pas passé'\n",
    "L = [randint(1,100) for i in range(20)] # Tire une liste aléatoire\n",
    "print(L)\n",
    "moyenne(L)"
   ]
  },
  {
   "cell_type": "markdown",
   "metadata": {},
   "source": [
    "<div id=\"maximum_liste\"></div>\n",
    "\n",
    "## Trouver le plus grand élément d'une liste  \n",
    "\n",
    "<div style=\"display:inline-flex;width:100px\">&#x1F511; <a href=\"https://github.com/ebuonocore/NSIT_07_Entrainement/blob/main/aides_corrections/aide_03.pdf\">Aide</a></div>\n",
    "<div style=\"display:inline-flex;width:100px\">&#x2705; <a href=\"https://github.com/ebuonocore/NSIT_07_Entrainement/blob/main/aides_corrections/correction_03.py\">Correction</a></div>"
   ]
  },
  {
   "cell_type": "code",
   "execution_count": 6,
   "metadata": {},
   "outputs": [
    {
     "name": "stdout",
     "output_type": "stream",
     "text": [
      "[88, 62, 90, 32, 77, 19, 55, 94, 31, 7, 98, 37, 60, 98, 8, 26, 34, 9, 75]\n"
     ]
    },
    {
     "data": {
      "text/plain": [
       "98"
      ]
     },
     "execution_count": 6,
     "metadata": {},
     "output_type": "execute_result"
    }
   ],
   "source": [
    "# A vous de jouer.\n",
    "def maximum(ma_liste:list)->float:\n",
    "    \"\"\" Renvoie le plus grand élément de la liste ma_liste\n",
    "        Précondition: ma_liste n'est pas vide\n",
    "    \"\"\"\n",
    "    m = ma_liste[0] # Initialise la maximum au premier élément de la liste\n",
    "    for element in ma_liste:\n",
    "        if element > m:\n",
    "            m = element\n",
    "    return m\n",
    "\n",
    "assert maximum([1,2,5,3])==5, 'La fonction maximum ne renvoie pas le bon résultat sur une liste d\\'entiers'\n",
    "assert maximum([1.8,2.4,5.1,3.1])==5.1, 'La fonction maximum ne renvoie pas le bon résultat sur une liste de flottants'\n",
    "L = [randint(1,100) for i in range(20)] # Tire une liste aléatoire\n",
    "print(L)\n",
    "maximum(L)"
   ]
  },
  {
   "cell_type": "markdown",
   "metadata": {},
   "source": [
    "<div id=\"maximum_liste_et_indice\"></div>\n",
    "\n",
    "## Maximum version n°2: Renvoie le maximum et  son indice\n",
    "\n",
    "<div style=\"display:inline-flex;width:100px\">&#x1F511; <a href=\"https://github.com/ebuonocore/NSIT_07_Entrainement/blob/main/aides_corrections/aide_04.pdf\">Aide</a></div>\n",
    "<div style=\"display:inline-flex;width:100px\">&#x2705; <a href=\"https://github.com/ebuonocore/NSIT_07_Entrainement/blob/main/aides_corrections/correction_04.py\">Correction</a></div>"
   ]
  },
  {
   "cell_type": "code",
   "execution_count": 7,
   "metadata": {},
   "outputs": [
    {
     "name": "stdout",
     "output_type": "stream",
     "text": [
      "[57, 2, 58, 93, 70, 41, 42, 66, 64, 45, 71, 38, 6, 33, 5, 60, 56, 79, 70]\n"
     ]
    },
    {
     "data": {
      "text/plain": [
       "(93, 3)"
      ]
     },
     "execution_count": 7,
     "metadata": {},
     "output_type": "execute_result"
    }
   ],
   "source": [
    "def maximum_position(ma_liste:list)->tuple:\n",
    "    \"\"\" Renvoie le plus grand élément de la liste ma_liste et son indice\n",
    "        Précondition: ma_liste n'est pas vide\n",
    "    \"\"\"\n",
    "    pos = 0 # Initalise la position du maximum à m'indice 0 (premier élément de la liste)\n",
    "    m = ma_liste[0] # Initialise la maximum au premier élément de la liste\n",
    "    for i in range(len(ma_liste)):\n",
    "        if ma_liste[i] > m:\n",
    "            pos = i\n",
    "            m = ma_liste[i]\n",
    "    return m,pos\n",
    "\n",
    "assert maximum_position([1,2,5,3])==(5, 2), 'La fonction maximum ne renvoie pas le bon résultat sur une liste \\\n",
    "                                                d\\'entiers'\n",
    "assert maximum_position([1.8,2.4,5.1,3.1])==(5.1, 2), 'La fonction maximum ne renvoie pas le bon résultat sur \\\n",
    "                                                une liste de flottants'\n",
    "L = [randint(1,100) for i in range(20)] # Tire une liste aléatoire\n",
    "print(L)\n",
    "maximum_position(L)"
   ]
  },
  {
   "cell_type": "markdown",
   "metadata": {},
   "source": [
    "<div id=\"tri_selection\"></div>\n",
    "\n",
    "## Tri par sélection dans l'ordre décroissant.\n",
    "La liste renvoyée commence par le plus grand élément de la liste d'origine et se termine par le plus petit.\n",
    "\n",
    "<div style=\"display:inline-flex;width:100px\">&#x1F511; <a href=\"https://github.com/ebuonocore/NSIT_07_Entrainement/blob/main/aides_corrections/aide_05.pdf\">Aide</a></div>\n",
    "<div style=\"display:inline-flex;width:100px\">&#x2705; <a href=\"https://github.com/ebuonocore/NSIT_07_Entrainement/blob/main/aides_corrections/correction_05.py\">Correction</a></div>"
   ]
  },
  {
   "cell_type": "code",
   "execution_count": 8,
   "metadata": {},
   "outputs": [
    {
     "name": "stdout",
     "output_type": "stream",
     "text": [
      "[37, 54, 51, 53, 50, 87, 31, 82, 88, 59, 88, 52, 7, 64, 66, 45, 64, 40, 18]\n"
     ]
    },
    {
     "data": {
      "text/plain": [
       "[88, 88, 87, 82, 66, 64, 64, 59, 54, 53, 52, 51, 50, 45, 40, 37, 31, 18, 7]"
      ]
     },
     "execution_count": 8,
     "metadata": {},
     "output_type": "execute_result"
    }
   ],
   "source": [
    "def tri_selection(ma_liste:list)->list:\n",
    "    \"\"\" Renvoie une copie triée dans m'ordre croissant de ma_liste\n",
    "        Précondion: ma_liste n'est pas vide\n",
    "        Post_condition: liste_triee a le même nombre d'éléments que ma_liste\n",
    "    \"\"\"\n",
    "    # On initialise la liste_triee vide\n",
    "    liste_triee = []\n",
    "    # On copie la liste d'origine pour ne pas la détériorer\n",
    "    ma_liste_copie = ma_liste.copy() # Evite les effets de bord\n",
    "    # Tant qu'il reste un élément dans ma_liste_copie\n",
    "    while len(ma_liste_copie)>0:\n",
    "        # On trouve le maximum et sa position dans ma_liste grâce à maximum_position()\n",
    "        maxi, position = maximum_position(ma_liste_copie)\n",
    "        # Ajoute ce maximum à liste_triee\n",
    "        liste_triee.append(maxi)\n",
    "        # Retire ce maximum à ma_liste_copie\n",
    "        del ma_liste_copie[position]\n",
    "    return liste_triee\n",
    "\n",
    "assert tri_selection([3,5,1,2]) == [5,3,2,1], 'Le test n\\'est pas passé'\n",
    "L = [randint(1,100) for i in range(20)] # Tire une liste aléatoire\n",
    "print(L)\n",
    "tri_selection(L)"
   ]
  },
  {
   "cell_type": "markdown",
   "metadata": {},
   "source": [
    "<div id=\"extremum\"></div>\n",
    "\n",
    "## Trouver les deux extrêmes de la liste (plus petit et plus grand éléments) \n",
    "Complétez le docstring avec 3 tests sur une liste d'entiers positifs, négatifs et de nombres décimaux. (cf activité 02b)  \n",
    "<div style=\"display:inline-flex;width:100px\">&#x1F511; <a href=\"https://github.com/ebuonocore/NSIT_07_Entrainement/blob/main/aides_corrections/aide_06.pdf\">Aide</a></div>\n",
    "<div style=\"display:inline-flex;width:100px\">&#x2705; <a href=\"https://github.com/ebuonocore/NSIT_07_Entrainement/blob/main/aides_corrections/correction_06.py\">Correction</a></div>"
   ]
  },
  {
   "cell_type": "code",
   "execution_count": 9,
   "metadata": {},
   "outputs": [
    {
     "name": "stdout",
     "output_type": "stream",
     "text": [
      "Trying:\n",
      "    extremum([3,5,1,2])\n",
      "Expecting:\n",
      "    (1, 5)\n",
      "ok\n",
      "Trying:\n",
      "    extremum([-1,-3,7,5,3,2])\n",
      "Expecting:\n",
      "    (-3, 7)\n",
      "ok\n",
      "Trying:\n",
      "    extremum([3.2,5.1,1.6,-2.2])\n",
      "Expecting:\n",
      "    (-2.2, 5.1)\n",
      "ok\n",
      "Trying:\n",
      "    extremum(['A','R','Z'])\n",
      "Expecting:\n",
      "    ('A', 'Z')\n",
      "ok\n",
      "6 items had no tests:\n",
      "    __main__\n",
      "    __main__.maximum\n",
      "    __main__.maximum_position\n",
      "    __main__.moyenne\n",
      "    __main__.sans_tete\n",
      "    __main__.tri_selection\n",
      "1 items passed all tests:\n",
      "   4 tests in __main__.extremum\n",
      "4 tests in 7 items.\n",
      "4 passed and 0 failed.\n",
      "Test passed.\n",
      "[37, 91, 15, 85, 76, 84, 61, 63, 65, 4, 17, 73, 31, 20, 9, 100, 78, 10, 19]\n"
     ]
    },
    {
     "data": {
      "text/plain": [
       "(4, 100)"
      ]
     },
     "execution_count": 9,
     "metadata": {},
     "output_type": "execute_result"
    }
   ],
   "source": [
    "# On peut s'aider de la fonction tri_selection() vu précédemment\n",
    "def extremum(ma_liste:list)->tuple:\n",
    "    \"\"\" Renvoie l'élément le plus petit et le plus grand sous la forme du p-uplet (minimum, maximum)\n",
    "        Précondition: ma_liste contient au moins deux éléments\n",
    "        \n",
    "    :param list ma_liste: Liste à examiner.\n",
    "\n",
    "    :return: Le couple constitué de (minimum, maximum)\n",
    "    \n",
    "    >>> extremum([3,5,1,2])\n",
    "    (1, 5)\n",
    "    \n",
    "    >>> extremum([-1,-3,7,5,3,2])\n",
    "    (-3, 7)\n",
    "    \n",
    "    >>> extremum([3.2,5.1,1.6,-2.2])\n",
    "    (-2.2, 5.1)\n",
    "    \n",
    "    >>> extremum(['A','R','Z'])\n",
    "    ('A', 'Z')\n",
    "    \"\"\"\n",
    "    assert len(ma_liste) >= 2, 'La liste doit contenir au moins 2 éléments'\n",
    "    ma_liste_copie = tri_selection(ma_liste.copy())\n",
    "    maximum = ma_liste_copie[0]\n",
    "    minimum = ma_liste_copie[-1]\n",
    "    return (minimum, maximum)\n",
    "\n",
    "import doctest\n",
    "doctest.testmod(verbose=True) \n",
    "L = [randint(1,100) for i in range(20)] # Tire une liste aléatoire\n",
    "print(L)\n",
    "extremum(L)"
   ]
  },
  {
   "cell_type": "markdown",
   "metadata": {},
   "source": [
    "<div id=\"comparatif_tris\"></div>\n",
    "\n",
    "## Compare les performances de deux tris\n",
    "\n",
    "<div style=\"display:inline-flex;width:100px\">&#x1F511; <a href=\"https://github.com/ebuonocore/NSIT_07_Entrainement/blob/main/aides_corrections/aide_07.pdf\">Aide</a></div>\n",
    "<div style=\"display:inline-flex;width:100px\">&#x2705; <a href=\"https://github.com/ebuonocore/NSIT_07_Entrainement/blob/main/aides_corrections/correction_07.py\">Correction</a></div>"
   ]
  },
  {
   "cell_type": "code",
   "execution_count": 10,
   "metadata": {},
   "outputs": [
    {
     "name": "stdout",
     "output_type": "stream",
     "text": [
      "Sur une liste de 50 éléments\n",
      "Temps pris par 10000 répétitions de tri_selection(): 1.4508118629455566\n",
      "Temps pris par 10000 répétitions de sorted(): 0.019101619720458984\n"
     ]
    }
   ],
   "source": [
    "def compare_les_tris(N:int, taille:int)->tuple:\n",
    "    \"\"\" Créé une liste de 'taille' éléments\n",
    "        Chronomètre l'exécution de N tris du tri sélection et du tri par sorted()\n",
    "        Renvoie le couple constitué des deux temps\n",
    "    \"\"\"\n",
    "    # Importe la bibliothèque time\n",
    "    import time\n",
    "    # Créé une liste aléatoire de 'taille' éléments\n",
    "    L = [randint(1,100) for i in range(1,taille)]\n",
    "\n",
    "    # Relève le chronomètre\n",
    "    temps_debut1 = time.time()\n",
    "    # Boucle N fois le tri_selection L\n",
    "    for i in range(N):\n",
    "        tri_selection(L)\n",
    "    # Relève le chronomètre\n",
    "    temps_fin1 = time.time()\n",
    "    temps1 = temps_fin1 - temps_debut1\n",
    "\n",
    "    # Relève le chronomètre\n",
    "    temps_debut2 = time.time()\n",
    "    # Boucle N fois le tri_selection L\n",
    "    for i in range(N):\n",
    "        sorted(L)\n",
    "    # Relève le chronomètre\n",
    "    temps_fin2 = time.time()\n",
    "    temps2 = temps_fin2 - temps_debut2\n",
    "    \n",
    "    return (temps1, temps2)\n",
    "\n",
    "t1, t2 = compare_les_tris(10000, 50)\n",
    "print(\"Sur une liste de 50 éléments\")\n",
    "print(\"Temps pris par 10000 répétitions de tri_selection():\",t1)\n",
    "print(\"Temps pris par 10000 répétitions de sorted():\",t2)"
   ]
  },
  {
   "cell_type": "markdown",
   "metadata": {},
   "source": [
    "<div id=\"comparatif_graphique\"></div>\n",
    "\n",
    "## Comparaison graphique entre deux tris  \n",
    "Tracer le graphe de l'évolution du temps de calcul en fonction de la taille de la liste**  \n",
    "\n",
    "On va faire varier la taille de la liste à trier et comparer les deux algorithmes de tri sur 100 répétitions.  \n",
    "Nous avons déjà fait ce genre de chose dans les activités e04e et r04d\n",
    "<div style=\"display:inline-flex;width:100px\">&#x1F511; <a href=\"https://github.com/ebuonocore/NSIT_07_Entrainement/blob/main/aides_corrections/aide_08.pdf\">Aide</a></div>\n",
    "<div style=\"display:inline-flex;width:100px\">&#x2705; <a href=\"https://github.com/ebuonocore/NSIT_07_Entrainement/blob/main/aides_corrections/correction_08.py\">Correction</a></div>"
   ]
  },
  {
   "cell_type": "code",
   "execution_count": 16,
   "metadata": {},
   "outputs": [
    {
     "data": {
      "image/png": "[encoded data removed]",
      "text/plain": [
       "<Figure size 432x288 with 1 Axes>"
      ]
     },
     "metadata": {
      "needs_background": "light"
     },
     "output_type": "display_data"
    }
   ],
   "source": [
    "# Importe la bibliothèque time et matplotlib.plot\n",
    "from pylab import *\n",
    "\n",
    "def compare_les_tris_et_trace(N:int):\n",
    "    \"\"\" Lance N fois le tri d'une liste de taille croissante selon 2 algorithmes\n",
    "        Mémorise pour chaque taille t de la liste, les temps d'exécution\n",
    "        Trace le graphique d'évolution des temps de tri en fonction de la taille t de la liste\n",
    "    \"\"\"\n",
    "    # Initialise les listes pour mémoriser la taille de L, le temps de chaque algorithme\n",
    "    tailles = []\n",
    "    temps_tri_selection = []\n",
    "    temps_tri_sorted = []\n",
    "\n",
    "    for t in range (10, 200, 10):\n",
    "        temps1, temps2 = compare_les_tris(N, t)\n",
    "\n",
    "        tailles.append(t)\n",
    "        temps_tri_selection.append(temps1)\n",
    "        temps_tri_sorted.append(temps2)\n",
    "    \n",
    "    plot(tailles, temps_tri_selection, label=\"tri_selection()\")\n",
    "    plot(tailles, temps_tri_sorted, label=\"sorted()\") \n",
    "    xlabel(\"Taille des listes\")\n",
    "    ylabel(\"Temps\")\n",
    "    legend()\n",
    "    \n",
    "compare_les_tris_et_trace(100)"
   ]
  },
  {
   "cell_type": "markdown",
   "metadata": {},
   "source": [
    "Une fois de plus, il semble que nous n'ayons pas fait mieux que les fonctions natives de Python.  \n",
    "Mais au moins, ça fonctionne."
   ]
  },
  {
   "cell_type": "markdown",
   "metadata": {},
   "source": [
    "<div id=\"maximum_recursif\"></div>\n",
    "\n",
    "## Trouve le maximum d'une liste en récursif  \n",
    "\n",
    "<div style=\"display:inline-flex;width:100px\">&#x1F511; <a href=\"https://github.com/ebuonocore/NSIT_07_Entrainement/blob/main/aides_corrections/aide_09.pdf\">Aide</a></div>\n",
    "<div style=\"display:inline-flex;width:100px\">&#x2705; <a href=\"https://github.com/ebuonocore/NSIT_07_Entrainement/blob/main/aides_corrections/correction_09.py\">Correction</a></div>"
   ]
  },
  {
   "cell_type": "code",
   "execution_count": 17,
   "metadata": {},
   "outputs": [
    {
     "name": "stdout",
     "output_type": "stream",
     "text": [
      "[58, 12, 34, 21, 61, 22, 50, 85, 37, 27, 75, 14, 72, 78, 42, 21, 14, 12, 90]\n"
     ]
    },
    {
     "data": {
      "text/plain": [
       "90"
      ]
     },
     "execution_count": 17,
     "metadata": {},
     "output_type": "execute_result"
    }
   ],
   "source": [
    "def maximum_rec(ma_liste:list, m:float)->float:\n",
    "    \"\"\" Renvoie le maximum de la liste ma_liste\n",
    "        Précondition: ma_liste n'est pas vide.\n",
    "    \"\"\"\n",
    "    # Cas de base: Si la taille de ma_liste = 1, alors, renvoie le maximum entre l'élément restant et m\n",
    "    if len(ma_liste)==1:\n",
    "        return max(ma_liste[0], m)\n",
    "    # Sinon, renvoit maximul_rec(ma_liste privée de la tête, maximum entre la tête de la liste et m)\n",
    "    else:\n",
    "        nouveau_max = max(ma_liste[0],m)\n",
    "        ma_liste_sans_tete = sans_tete(ma_liste) # Copie la liste privée du premier élément.Utilisez ici sans_tete() du premier exercice.\n",
    "        return maximum_rec(ma_liste_sans_tete,nouveau_max)\n",
    "\n",
    "L = [randint(1,100) for i in range(20)] # Tire une liste aléatoire\n",
    "print(L)\n",
    "assert maximum_rec([1,2,5,3],1)==5, 'La fonction maximum ne renvoie pas le bon résultat sur une \\\n",
    "                                        liste d\\'entiers'\n",
    "assert maximum_rec([1.8,2.4,5.1,3.1],1.8)==5.1, 'La fonction maximum ne renvoie pas le bon résultat \\\n",
    "                                        sur une liste de flottants'\n",
    "maximum_rec(L,L[0])"
   ]
  },
  {
   "cell_type": "markdown",
   "metadata": {},
   "source": [
    "<div id=\"dependances\"></div>\n",
    "\n",
    "## Interdépendance des définitions de fonctions  \n",
    "\n",
    "<div style=\"display:inline-flex;width:100px\">&#x1F511; <a href=\"https://github.com/ebuonocore/NSIT_07_Entrainement/blob/main/aides_corrections/aide_10.pdf\">Aide</a></div>\n",
    "<div style=\"display:inline-flex;width:100px\">&#x2705; <a href=\"https://github.com/ebuonocore/NSIT_07_Entrainement/blob/main/aides_corrections/correction_10.pdf\">Correction</a></div>"
   ]
  },
  {
   "cell_type": "markdown",
   "metadata": {},
   "source": [
    "Vous avez remarqué que certaines fonctions dépendent de la définition d'autres fonctions.  \n",
    "Par exemple, dans le cas précédent, **maximum_rec()** ne fonctionne que si **sans_tete()** est bien définie.  \n",
    "\n",
    "On peut représenter cette dépendance de la façon suivante:  "
   ]
  },
  {
   "cell_type": "code",
   "execution_count": null,
   "metadata": {},
   "outputs": [],
   "source": [
    "# sans_tete() --> maximum_rec() "
   ]
  },
  {
   "cell_type": "markdown",
   "metadata": {},
   "source": [
    "Dans un premier temps, nous ne représentons pas les appels de modules (ni les fonctions natives de Python, comme sorted() par exemple)  \n",
    "Représentez la liste des dépendances de **extremum()**:"
   ]
  },
  {
   "cell_type": "code",
   "execution_count": null,
   "metadata": {},
   "outputs": [],
   "source": [
    "# maximum_position() --> tri_selection() --> extremum()"
   ]
  },
  {
   "cell_type": "markdown",
   "metadata": {},
   "source": [
    "Représentez maintenant les dépendances de la fonction compare_les_tris_et_trace():"
   ]
  },
  {
   "cell_type": "code",
   "execution_count": null,
   "metadata": {},
   "outputs": [],
   "source": [
    "# maximum_position() --> tri_selection() --> compare_les_tris() --> compare_les_tris_et_trace()"
   ]
  },
  {
   "cell_type": "markdown",
   "metadata": {},
   "source": [
    "---\n",
    "<p style=\"font-family:Comic Sans MS; text-align: center; color:gray; font-size: x-small; \">- Eric Buonocore. Octobre 2020 -</p>\n",
    "\n",
    "![Licence CC BY NC SA](https://licensebuttons.net/l/by-nc-sa/3.0/88x31.png)"
   ]
  }
 ],
 "metadata": {
  "kernelspec": {
   "display_name": "Python 3",
   "language": "python",
   "name": "python3"
  },
  "language_info": {
   "codemirror_mode": {
    "name": "ipython",
    "version": 3
   },
   "file_extension": ".py",
   "mimetype": "text/x-python",
   "name": "python",
   "nbconvert_exporter": "python",
   "pygments_lexer": "ipython3",
   "version": "3.7.6"
  }
 },
 "nbformat": 4,
 "nbformat_minor": 2
}
